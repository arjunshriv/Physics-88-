{
 "cells": [
  {
   "cell_type": "code",
   "execution_count": 1,
   "metadata": {},
   "outputs": [],
   "source": [
    "import lightkurve as lk\n"
   ]
  },
  {
   "cell_type": "code",
   "execution_count": 2,
   "metadata": {},
   "outputs": [
    {
     "name": "stdout",
     "output_type": "stream",
     "text": [
      " target_name         s_ra             s_dec      \n",
      "------------- ------------------ ----------------\n",
      "kplr010593626          289.21749         47.88446\n",
      "    158984573   289.217460079816 47.8844298699531\n",
      "kplr010593671         289.229471         47.88958\n",
      "kplr010593632 289.22008400000004        47.899558\n",
      "    158984558   289.220070457293  47.899565929126\n",
      "kplr010659335 289.23111900000004         47.90444\n",
      "kplr010593528          289.18092          47.8858\n",
      "kplr010593535 289.18265999999994         47.87338\n",
      "kplr010593596 289.20508100000006         47.85892\n",
      "kplr010593735 289.25532799999996         47.87337\n",
      "kplr010593539 289.18469000000005         47.86625\n",
      "kplr010659313          289.22276         47.91389\n",
      "kplr010593761 289.26250200000004        47.893013\n",
      "kplr010593721         289.248701         47.85801\n",
      "kplr010593779         289.269414        47.861145\n",
      "kplr010659292 289.21206000000006         47.92691\n",
      "kplr010593493 289.16698799999995        47.849414\n",
      "kplr010659409         289.274622        47.916554\n",
      "    158984538   289.274607233649 47.9165403745036\n",
      "kplr010659278 289.20594000000006         47.93569\n"
     ]
    }
   ],
   "source": [
    "search_result = lk.search_targetpixelfile('Kepler-22', radius=180, exptime=1800)\n",
    "print(search_result.unique_targets)"
   ]
  },
  {
   "cell_type": "code",
   "execution_count": 4,
   "metadata": {},
   "outputs": [
    {
     "data": {
      "text/html": [
       "<div><i>Table length=20</i>\n",
       "<table id=\"table6068785744\" class=\"table-striped table-bordered table-condensed\">\n",
       "<thead><tr><th>target_name</th><th>s_ra</th><th>s_dec</th></tr></thead>\n",
       "<thead><tr><th>str13</th><th>float64</th><th>float64</th></tr></thead>\n",
       "<tr><td>kplr010593626</td><td>289.21749</td><td>47.88446</td></tr>\n",
       "<tr><td>158984573</td><td>289.217460079816</td><td>47.8844298699531</td></tr>\n",
       "<tr><td>kplr010593671</td><td>289.229471</td><td>47.88958</td></tr>\n",
       "<tr><td>kplr010593632</td><td>289.22008400000004</td><td>47.899558</td></tr>\n",
       "<tr><td>158984558</td><td>289.220070457293</td><td>47.899565929126</td></tr>\n",
       "<tr><td>kplr010659335</td><td>289.23111900000004</td><td>47.90444</td></tr>\n",
       "<tr><td>kplr010593528</td><td>289.18092</td><td>47.8858</td></tr>\n",
       "<tr><td>kplr010593535</td><td>289.18265999999994</td><td>47.87338</td></tr>\n",
       "<tr><td>kplr010593596</td><td>289.20508100000006</td><td>47.85892</td></tr>\n",
       "<tr><td>kplr010593735</td><td>289.25532799999996</td><td>47.87337</td></tr>\n",
       "<tr><td>kplr010593539</td><td>289.18469000000005</td><td>47.86625</td></tr>\n",
       "<tr><td>kplr010659313</td><td>289.22276</td><td>47.91389</td></tr>\n",
       "<tr><td>kplr010593761</td><td>289.26250200000004</td><td>47.893013</td></tr>\n",
       "<tr><td>kplr010593721</td><td>289.248701</td><td>47.85801</td></tr>\n",
       "<tr><td>kplr010593779</td><td>289.269414</td><td>47.861145</td></tr>\n",
       "<tr><td>kplr010659292</td><td>289.21206000000006</td><td>47.92691</td></tr>\n",
       "<tr><td>kplr010593493</td><td>289.16698799999995</td><td>47.849414</td></tr>\n",
       "<tr><td>kplr010659409</td><td>289.274622</td><td>47.916554</td></tr>\n",
       "<tr><td>158984538</td><td>289.274607233649</td><td>47.9165403745036</td></tr>\n",
       "<tr><td>kplr010659278</td><td>289.20594000000006</td><td>47.93569</td></tr>\n",
       "</table></div>"
      ],
      "text/plain": [
       "<Table length=20>\n",
       " target_name         s_ra             s_dec      \n",
       "    str13          float64           float64     \n",
       "------------- ------------------ ----------------\n",
       "kplr010593626          289.21749         47.88446\n",
       "    158984573   289.217460079816 47.8844298699531\n",
       "kplr010593671         289.229471         47.88958\n",
       "kplr010593632 289.22008400000004        47.899558\n",
       "    158984558   289.220070457293  47.899565929126\n",
       "kplr010659335 289.23111900000004         47.90444\n",
       "kplr010593528          289.18092          47.8858\n",
       "kplr010593535 289.18265999999994         47.87338\n",
       "kplr010593596 289.20508100000006         47.85892\n",
       "kplr010593735 289.25532799999996         47.87337\n",
       "kplr010593539 289.18469000000005         47.86625\n",
       "kplr010659313          289.22276         47.91389\n",
       "kplr010593761 289.26250200000004        47.893013\n",
       "kplr010593721         289.248701         47.85801\n",
       "kplr010593779         289.269414        47.861145\n",
       "kplr010659292 289.21206000000006         47.92691\n",
       "kplr010593493 289.16698799999995        47.849414\n",
       "kplr010659409         289.274622        47.916554\n",
       "    158984538   289.274607233649 47.9165403745036\n",
       "kplr010659278 289.20594000000006         47.93569"
      ]
     },
     "execution_count": 4,
     "metadata": {},
     "output_type": "execute_result"
    }
   ],
   "source": [
    "search_result.unique_targets"
   ]
  },
  {
   "cell_type": "code",
   "execution_count": null,
   "metadata": {},
   "outputs": [
    {
     "data": {
      "text/plain": [
       "10593626"
      ]
     },
     "execution_count": 7,
     "metadata": {},
     "output_type": "execute_result"
    }
   ],
   "source": [
    "search_result = lk.search_lightcurve('kplr010593626', author='Kepler', cadence='long')\n",
    "lc_collection = search_result.download_all()\n",
    "lc = lc_collection.stitch().flatten(window_length=901).remove_outliers()\n",
    "\n"
   ]
  },
  {
   "cell_type": "code",
   "execution_count": null,
   "metadata": {},
   "outputs": [
    {
     "data": {
      "text/plain": [
       "10593626"
      ]
     },
     "execution_count": 14,
     "metadata": {},
     "output_type": "execute_result"
    }
   ],
   "source": [
    "\"Kepler 4, Kepler 5, Kepler 6, Kepler 7, Kepler 8, Kepler 66, Kepler 59, Kepler 13, Kepler 14, Kepler 15\""
   ]
  }
 ],
 "metadata": {
  "kernelspec": {
   "display_name": "Python 3",
   "language": "python",
   "name": "python3"
  },
  "language_info": {
   "codemirror_mode": {
    "name": "ipython",
    "version": 3
   },
   "file_extension": ".py",
   "mimetype": "text/x-python",
   "name": "python",
   "nbconvert_exporter": "python",
   "pygments_lexer": "ipython3",
   "version": "3.11.4"
  }
 },
 "nbformat": 4,
 "nbformat_minor": 2
}
